{
  "nbformat": 4,
  "nbformat_minor": 0,
  "metadata": {
    "colab": {
      "provenance": [],
      "authorship_tag": "ABX9TyPVdeKJdL95YXpJkVrKjRcl",
      "include_colab_link": true
    },
    "kernelspec": {
      "name": "python3",
      "display_name": "Python 3"
    },
    "language_info": {
      "name": "python"
    }
  },
  "cells": [
    {
      "cell_type": "markdown",
      "metadata": {
        "id": "view-in-github",
        "colab_type": "text"
      },
      "source": [
        "<a href=\"https://colab.research.google.com/github/ViniciusPezatti/Kaprekar/blob/main/Kaprekar.ipynb\" target=\"_parent\"><img src=\"https://colab.research.google.com/assets/colab-badge.svg\" alt=\"Open In Colab\"/></a>"
      ]
    },
    {
      "cell_type": "code",
      "execution_count": 1,
      "metadata": {
        "colab": {
          "base_uri": "https://localhost:8080/"
        },
        "id": "OgWeIpNfvTzX",
        "outputId": "511e9a86-f25e-476b-a6a1-78c80421fd11"
      },
      "outputs": [
        {
          "output_type": "stream",
          "name": "stdout",
          "text": [
            "Digite um número de 4 dígitos (com pelo menos 2 diferentes): 5623\n",
            "Passo 1: 6532 - 2356 = 4176\n",
            "Passo 2: 7641 - 1467 = 6174\n",
            "O número chegou a 6174 em 2 passos.\n"
          ]
        }
      ],
      "source": [
        "def kaprekar(num):\n",
        "    if num == 6174:\n",
        "        return 0  # Se já for 6174, não precisa de mais passos\n",
        "    count = 0\n",
        "    while num != 6174:\n",
        "        num_str = f\"{num:04d}\"  # Garante que sempre tenha 4 dígitos\n",
        "        maior = int(\"\".join(sorted(num_str, reverse=True)))  # Ordena descrescente\n",
        "        menor = int(\"\".join(sorted(num_str)))  # Ordena crescente\n",
        "        num = maior - menor\n",
        "        count += 1\n",
        "        print(f\"Passo {count}: {maior} - {menor} = {num}\")\n",
        "    return count\n",
        "\n",
        "# Teste com um número inicial\n",
        "numero_inicial = int(input(\"Digite um número de 4 dígitos (com pelo menos 2 diferentes): \"))\n",
        "iteracoes = kaprekar(numero_inicial)\n",
        "print(f\"O número chegou a 6174 em {iteracoes} passos.\")\n"
      ]
    },
    {
      "cell_type": "code",
      "source": [
        "def kaprekar(num):\n",
        "    passos = 0\n",
        "    while num != 6174:\n",
        "        num_str = str(num).zfill(4)  # Garante que tenha 4 dígitos\n",
        "        maior = int(\"\".join(sorted(num_str, reverse=True)))  # Ordena descrescente\n",
        "        menor = int(\"\".join(sorted(num_str)))  # Ordena crescente\n",
        "        num = maior - menor\n",
        "        passos += 1\n",
        "        print(f\"{maior} - {menor} = {num}\")\n",
        "    print(f\"Chegou em 6174 em {passos} passos.\")\n",
        "\n",
        "# Pede um número para o usuário\n",
        "num = int(input(\"Digite um número de 4 dígitos: \"))\n",
        "kaprekar(num)\n"
      ],
      "metadata": {
        "colab": {
          "base_uri": "https://localhost:8080/"
        },
        "id": "PJ1LON-tvdIH",
        "outputId": "89be36cc-e0ad-4b3c-b005-d4bf3f1d7277"
      },
      "execution_count": 2,
      "outputs": [
        {
          "output_type": "stream",
          "name": "stdout",
          "text": [
            "Digite um número de 4 dígitos: 8431\n",
            "8431 - 1348 = 7083\n",
            "8730 - 378 = 8352\n",
            "8532 - 2358 = 6174\n",
            "Chegou em 6174 em 3 passos.\n"
          ]
        }
      ]
    },
    {
      "cell_type": "code",
      "source": [],
      "metadata": {
        "id": "BznNGe3m5QXI"
      },
      "execution_count": null,
      "outputs": []
    }
  ]
}