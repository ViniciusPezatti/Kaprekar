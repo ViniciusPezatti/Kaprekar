{
  "nbformat": 4,
  "nbformat_minor": 0,
  "metadata": {
    "colab": {
      "provenance": [],
      "authorship_tag": "ABX9TyNxAF8m3iotZFViNXvA9lgQ",
      "include_colab_link": true
    },
    "kernelspec": {
      "name": "python3",
      "display_name": "Python 3"
    },
    "language_info": {
      "name": "python"
    }
  },
  "cells": [
    {
      "cell_type": "markdown",
      "metadata": {
        "id": "view-in-github",
        "colab_type": "text"
      },
      "source": [
        "<a href=\"https://colab.research.google.com/github/ViniciusPezatti/Kaprekar/blob/main/Kaprekar.ipynb\" target=\"_parent\"><img src=\"https://colab.research.google.com/assets/colab-badge.svg\" alt=\"Open In Colab\"/></a>"
      ]
    },
    {
      "cell_type": "code",
      "execution_count": null,
      "metadata": {
        "colab": {
          "base_uri": "https://localhost:8080/"
        },
        "id": "OgWeIpNfvTzX",
        "outputId": "511e9a86-f25e-476b-a6a1-78c80421fd11"
      },
      "outputs": [
        {
          "output_type": "stream",
          "name": "stdout",
          "text": [
            "Digite um número de 4 dígitos (com pelo menos 2 diferentes): 5623\n",
            "Passo 1: 6532 - 2356 = 4176\n",
            "Passo 2: 7641 - 1467 = 6174\n",
            "O número chegou a 6174 em 2 passos.\n"
          ]
        }
      ],
      "source": [
        "def kaprekar(num):\n",
        "    if num == 6174:\n",
        "        return 0  # Se já for 6174, não precisa de mais passos\n",
        "    count = 0\n",
        "    while num != 6174:\n",
        "        num_str = f\"{num:04d}\"  # Garante que sempre tenha 4 dígitos\n",
        "        maior = int(\"\".join(sorted(num_str, reverse=True)))  # Ordena descrescente\n",
        "        menor = int(\"\".join(sorted(num_str)))  # Ordena crescente\n",
        "        num = maior - menor\n",
        "        count += 1\n",
        "        print(f\"Passo {count}: {maior} - {menor} = {num}\")\n",
        "    return count\n",
        "\n",
        "# Teste com um número inicial\n",
        "numero_inicial = int(input(\"Digite um número de 4 dígitos (com pelo menos 2 diferentes): \"))\n",
        "iteracoes = kaprekar(numero_inicial)\n",
        "print(f\"O número chegou a 6174 em {iteracoes} passos.\")\n"
      ]
    },
    {
      "cell_type": "code",
      "source": [
        "def kaprekar(num):\n",
        "    passos = 0\n",
        "    while num != 6174:\n",
        "        num_str = str(num).zfill(4)  # Garante que tenha 4 dígitos\n",
        "        maior = int(\"\".join(sorted(num_str, reverse=True)))  # Ordena descrescente\n",
        "        menor = int(\"\".join(sorted(num_str)))  # Ordena crescente\n",
        "        num = maior - menor\n",
        "        passos += 1\n",
        "        print(f\"{maior} - {menor} = {num}\")\n",
        "    print(f\"Chegou em 6174 em {passos} passos.\")\n",
        "\n",
        "# Pede um número para o usuário\n",
        "num = int(input(\"Digite um número de 4 dígitos: \"))\n",
        "kaprekar(num)\n"
      ],
      "metadata": {
        "colab": {
          "base_uri": "https://localhost:8080/"
        },
        "id": "PJ1LON-tvdIH",
        "outputId": "89be36cc-e0ad-4b3c-b005-d4bf3f1d7277"
      },
      "execution_count": null,
      "outputs": [
        {
          "output_type": "stream",
          "name": "stdout",
          "text": [
            "Digite um número de 4 dígitos: 8431\n",
            "8431 - 1348 = 7083\n",
            "8730 - 378 = 8352\n",
            "8532 - 2358 = 6174\n",
            "Chegou em 6174 em 3 passos.\n"
          ]
        }
      ]
    },
    {
      "cell_type": "markdown",
      "source": [
        "#🔍 Análise da Constante de Kaprekar com Python\n",
        "\n",
        "A Constante de Kaprekar é um número fascinante que pode ser obtido através de um processo simples, mas que sempre leva a 6174, independentemente do número de 4 dígitos escolhido (exceto quando todos os dígitos são iguais).\n",
        "\n",
        "Este processo é um ótimo exemplo de como matemática e programação podem ser combinadas de forma simples e eficiente.\n",
        "\n",
        "\n",
        "##📖 Passo a Passo do Processo de Kaprekar:\n",
        "\n",
        "###Escolha um número de 4 dígitos diferentes:\n",
        "\n",
        "\n",
        "O primeiro passo é escolher um número de 4 dígitos.\n",
        "Lembre-se de que todos os dígitos não podem ser iguais. Por exemplo, 1111 não é permitido.\n",
        "\n",
        "###Ordenar os dígitos:\n",
        "\n",
        "\n",
        "O número escolhido é transformado em dois novos números:\n",
        "\n",
        "O número maior é formado ordenando os dígitos em ordem decrescente.\n",
        "\n",
        "O número menor é formado ordenando os dígitos em ordem crescente.\n",
        "\n",
        "###Subtração:\n",
        "\n",
        "Subtraímos o número menor do número maior.\n",
        "\n",
        "###Repetição:\n",
        "\n",
        "O processo se repete com o novo número obtido, até que o resultado seja 6174, conhecido como a Constante de Kaprekar.\n",
        "\n",
        "##🚀 O Código:\n",
        "\n",
        "No código abaixo, criamos um programa que realiza o processo de Kaprekar, enquanto valida se o número fornecido é adequado (4 dígitos e não iguais).\n",
        "\n",
        "##🔑 Explicação do Código:\n",
        "\n",
        "Entrada de dados: O programa solicita que o usuário insira um número de 4 dígitos. Se o número for inválido ou tiver todos os dígitos iguais, ele pede para o usuário digitar novamente.\n",
        "\n",
        "Processo de Kaprekar: O código aplica o algoritmo de Kaprekar, fazendo a subtração entre o maior e o menor número possível formado com os dígitos do número inicial.\n",
        "\n",
        "Resultado: O processo é repetido até que o número 6174 seja alcançado, e o número de passos é mostrado.\n",
        "Abaixo, o código que realiza esse processo de forma simples e direta:"
      ],
      "metadata": {
        "id": "qePtfFtVCHlR"
      }
    },
    {
      "cell_type": "code",
      "source": [
        "def kaprekar():\n",
        "    while True:\n",
        "        n = input(\"🔢 Insira um número de 4 dígitos diferentes: \")  # Solicita um número ao usuário\n",
        "\n",
        "        if len(n) != 4 or not n.isdigit():  # Verifica se tem exatamente 4 dígitos numéricos\n",
        "            print(\"❌ Erro: O número deve ter exatamente 4 dígitos.\")\n",
        "            continue  # Volta para pedir um número válido\n",
        "\n",
        "        if len(set(n)) == 1:  # Verifica se todos os dígitos são iguais (ex: 1111, 2222)\n",
        "            print(\"⚠️ Erro: O número não pode ter todos os dígitos iguais.\")\n",
        "            continue\n",
        "\n",
        "        n = int(n)  # Converte o número para inteiro\n",
        "        break  # Sai do loop se o número for válido\n",
        "\n",
        "    passos = 0  # Conta quantas vezes repetimos o processo\n",
        "\n",
        "    while n != 6174:  # Continua até chegar em 6174\n",
        "        num_str = str(n).zfill(4)  # Garante que o número tenha 4 dígitos (ex: 45 vira 0045)\n",
        "\n",
        "        maior = int(\"\".join(sorted(num_str, reverse=True)))  # Ordena os dígitos de forma decrescente\n",
        "        menor = int(\"\".join(sorted(num_str)))  # Ordena os dígitos de forma crescente\n",
        "\n",
        "        n = maior - menor  # Faz a subtração entre maior e menor\n",
        "        passos += 1  # Conta quantas vezes repetimos o processo\n",
        "\n",
        "        print(f\"{maior} - {menor} = {n}\")  # Mostra a conta feita\n",
        "\n",
        "    print(f\"✅ Chegamos a 6174 em {passos} passos!\")\n",
        "\n",
        "# Executa o programa\n",
        "kaprekar()\n"
      ],
      "metadata": {
        "id": "BznNGe3m5QXI",
        "colab": {
          "base_uri": "https://localhost:8080/"
        },
        "outputId": "13581f5b-92c6-4985-b23a-1226cc7f6d79"
      },
      "execution_count": 4,
      "outputs": [
        {
          "output_type": "stream",
          "name": "stdout",
          "text": [
            "🔢 Insira um número de 4 dígitos diferentes: 1111\n",
            "⚠️ Erro: O número não pode ter todos os dígitos iguais.\n",
            "🔢 Insira um número de 4 dígitos diferentes: 55555\n",
            "❌ Erro: O número deve ter exatamente 4 dígitos.\n",
            "🔢 Insira um número de 4 dígitos diferentes: 69854\n",
            "❌ Erro: O número deve ter exatamente 4 dígitos.\n",
            "🔢 Insira um número de 4 dígitos diferentes: 8745\n",
            "8754 - 4578 = 4176\n",
            "7641 - 1467 = 6174\n",
            "✅ Chegamos a 6174 em 2 passos!\n"
          ]
        }
      ]
    },
    {
      "cell_type": "code",
      "source": [],
      "metadata": {
        "id": "RLCKViuGCD55"
      },
      "execution_count": null,
      "outputs": []
    }
  ]
}