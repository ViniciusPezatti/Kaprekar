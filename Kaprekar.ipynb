{
  "nbformat": 4,
  "nbformat_minor": 0,
  "metadata": {
    "colab": {
      "provenance": [],
      "authorship_tag": "ABX9TyNGTtXuKFhgPgT1D3Leb8eB",
      "include_colab_link": true
    },
    "kernelspec": {
      "name": "python3",
      "display_name": "Python 3"
    },
    "language_info": {
      "name": "python"
    }
  },
  "cells": [
    {
      "cell_type": "markdown",
      "metadata": {
        "id": "view-in-github",
        "colab_type": "text"
      },
      "source": [
        "<a href=\"https://colab.research.google.com/github/ViniciusPezatti/Kaprekar/blob/main/Kaprekar.ipynb\" target=\"_parent\"><img src=\"https://colab.research.google.com/assets/colab-badge.svg\" alt=\"Open In Colab\"/></a>"
      ]
    },
    {
      "cell_type": "code",
      "execution_count": 8,
      "metadata": {
        "colab": {
          "base_uri": "https://localhost:8080/"
        },
        "id": "OgWeIpNfvTzX",
        "outputId": "07fb34c7-4c87-4023-99c6-b89575633630"
      },
      "outputs": [
        {
          "output_type": "stream",
          "name": "stdout",
          "text": [
            "Digite um número de 4 dígitos (com pelo menos 2 diferentes): 1024\n",
            "Passo 1: 4210 - 124 = 4086\n",
            "Passo 2: 8640 - 468 = 8172\n",
            "Passo 3: 8721 - 1278 = 7443\n",
            "Passo 4: 7443 - 3447 = 3996\n",
            "Passo 5: 9963 - 3699 = 6264\n",
            "Passo 6: 6642 - 2466 = 4176\n",
            "Passo 7: 7641 - 1467 = 6174\n",
            "O número chegou a 6174 em 7 passos.\n"
          ]
        }
      ],
      "source": [
        "def kaprekar(num):\n",
        "    if num == 6174:\n",
        "        return 0  # Se já for 6174, não precisa de mais passos\n",
        "    count = 0\n",
        "    while num != 6174:\n",
        "        num_str = f\"{num:04d}\"  # Garante que sempre tenha 4 dígitos\n",
        "        maior = int(\"\".join(sorted(num_str, reverse=True)))  # Ordena descrescente\n",
        "        menor = int(\"\".join(sorted(num_str)))  # Ordena crescente\n",
        "        num = maior - menor\n",
        "        count += 1\n",
        "        print(f\"Passo {count}: {maior} - {menor} = {num}\")\n",
        "    return count\n",
        "\n",
        "# Teste com um número inicial\n",
        "numero_inicial = int(input(\"Digite um número de 4 dígitos (com pelo menos 2 diferentes): \"))\n",
        "iteracoes = kaprekar(numero_inicial)\n",
        "print(f\"O número chegou a 6174 em {iteracoes} passos.\")\n"
      ]
    },
    {
      "cell_type": "markdown",
      "source": [
        "#🔍 Análise da Constante de Kaprekar com Python\n",
        "\n",
        "A Constante de Kaprekar é um número fascinante que pode ser obtido através de um processo simples, mas que sempre leva a 6174, independentemente do número de 4 dígitos escolhido (exceto quando todos os dígitos são iguais).\n",
        "\n",
        "Este processo é um ótimo exemplo de como matemática e programação podem ser combinadas de forma simples e eficiente.\n",
        "\n",
        "\n",
        "##📖 Passo a Passo do Processo de Kaprekar:\n",
        "\n",
        "###Escolha um número de 4 dígitos diferentes:\n",
        "\n",
        "\n",
        "O primeiro passo é escolher um número de 4 dígitos.\n",
        "Lembre-se de que todos os dígitos não podem ser iguais. Por exemplo, 1111 não é permitido.\n",
        "\n",
        "###Ordenar os dígitos:\n",
        "\n",
        "\n",
        "O número escolhido é transformado em dois novos números:\n",
        "\n",
        "O número maior é formado ordenando os dígitos em ordem decrescente.\n",
        "\n",
        "O número menor é formado ordenando os dígitos em ordem crescente.\n",
        "\n",
        "###Subtração:\n",
        "\n",
        "Subtraímos o número menor do número maior.\n",
        "\n",
        "###Repetição:\n",
        "\n",
        "O processo se repete com o novo número obtido, até que o resultado seja 6174, conhecido como a Constante de Kaprekar.\n",
        "\n",
        "##🚀 O Código:\n",
        "\n",
        "No código abaixo, criamos um programa que realiza o processo de Kaprekar, enquanto valida se o número fornecido é adequado (4 dígitos e não iguais).\n",
        "\n",
        "##🔑 Explicação do Código:\n",
        "\n",
        "Entrada de dados: O programa solicita que o usuário insira um número de 4 dígitos. Se o número for inválido ou tiver todos os dígitos iguais, ele pede para o usuário digitar novamente.\n",
        "\n",
        "Processo de Kaprekar: O código aplica o algoritmo de Kaprekar, fazendo a subtração entre o maior e o menor número possível formado com os dígitos do número inicial.\n",
        "\n",
        "Resultado: O processo é repetido até que o número 6174 seja alcançado, e o número de passos é mostrado.\n",
        "Abaixo, o código que realiza esse processo de forma simples e direta:"
      ],
      "metadata": {
        "id": "qePtfFtVCHlR"
      }
    },
    {
      "cell_type": "code",
      "source": [
        "def kaprekar():\n",
        "    while True:\n",
        "        n = input(\"🔢 Insira um número de 4 dígitos diferentes: \")  # Solicita um número ao usuário\n",
        "\n",
        "        if len(n) != 4 or not n.isdigit():  # Verifica se tem exatamente 4 dígitos numéricos\n",
        "            print(\"❌ Erro: O número deve ter exatamente 4 dígitos.\")\n",
        "            continue  # Volta para pedir um número válido\n",
        "\n",
        "        if len(set(n)) == 1:  # Verifica se todos os dígitos são iguais (ex: 1111, 2222)\n",
        "            print(\"⚠️ Erro: O número não pode ter todos os dígitos iguais.\")\n",
        "            continue\n",
        "\n",
        "        n = int(n)  # Converte o número para inteiro\n",
        "        break  # Sai do loop se o número for válido\n",
        "\n",
        "    passos = 0  # Conta quantas vezes repetimos o processo\n",
        "\n",
        "    while n != 6174:  # Continua até chegar em 6174\n",
        "        num_str = str(n).zfill(4)  # Garante que o número tenha 4 dígitos (ex: 45 vira 0045)\n",
        "\n",
        "        maior = int(\"\".join(sorted(num_str, reverse=True)))  # Ordena os dígitos de forma decrescente\n",
        "        menor = int(\"\".join(sorted(num_str)))  # Ordena os dígitos de forma crescente\n",
        "\n",
        "        n = maior - menor  # Faz a subtração entre maior e menor\n",
        "        passos += 1  # Conta quantas vezes repetimos o processo\n",
        "\n",
        "        print(f\"Passo {passos}: {maior} - {menor} = {n}\")  # Mostra a conta feita\n",
        "\n",
        "    print(f\"✅ Chegamos a 6174 em {passos} passos!\")\n",
        "\n",
        "# Executa o programa\n",
        "kaprekar()\n"
      ],
      "metadata": {
        "id": "BznNGe3m5QXI",
        "colab": {
          "base_uri": "https://localhost:8080/"
        },
        "outputId": "50f47321-d7ae-4278-af3e-374be599984d"
      },
      "execution_count": 9,
      "outputs": [
        {
          "output_type": "stream",
          "name": "stdout",
          "text": [
            "🔢 Insira um número de 4 dígitos diferentes: 5412\n",
            "Passo 1: 5421 - 1245 = 4176\n",
            "Passo 2: 7641 - 1467 = 6174\n",
            "✅ Chegamos a 6174 em 2 passos!\n"
          ]
        }
      ]
    },
    {
      "cell_type": "code",
      "source": [
        "kaprekar()"
      ],
      "metadata": {
        "colab": {
          "base_uri": "https://localhost:8080/"
        },
        "id": "RLCKViuGCD55",
        "outputId": "e8a4f347-d728-4eb5-de27-feec46d71e66"
      },
      "execution_count": 10,
      "outputs": [
        {
          "output_type": "stream",
          "name": "stdout",
          "text": [
            "🔢 Insira um número de 4 dígitos diferentes: 9995\n",
            "Passo 1: 9995 - 5999 = 3996\n",
            "Passo 2: 9963 - 3699 = 6264\n",
            "Passo 3: 6642 - 2466 = 4176\n",
            "Passo 4: 7641 - 1467 = 6174\n",
            "✅ Chegamos a 6174 em 4 passos!\n"
          ]
        }
      ]
    },
    {
      "cell_type": "code",
      "source": [
        "kaprekar()"
      ],
      "metadata": {
        "colab": {
          "base_uri": "https://localhost:8080/"
        },
        "id": "9kTwAoaRG0hp",
        "outputId": "29df5d80-d3a3-40ad-c7d8-e7de1fdaec40"
      },
      "execution_count": 11,
      "outputs": [
        {
          "output_type": "stream",
          "name": "stdout",
          "text": [
            "🔢 Insira um número de 4 dígitos diferentes: 6555\n",
            "Passo 1: 6555 - 5556 = 999\n",
            "Passo 2: 9990 - 999 = 8991\n",
            "Passo 3: 9981 - 1899 = 8082\n",
            "Passo 4: 8820 - 288 = 8532\n",
            "Passo 5: 8532 - 2358 = 6174\n",
            "✅ Chegamos a 6174 em 5 passos!\n"
          ]
        }
      ]
    },
    {
      "cell_type": "code",
      "source": [
        "kaprekar()"
      ],
      "metadata": {
        "colab": {
          "base_uri": "https://localhost:8080/"
        },
        "id": "SzJkq0c4G6N4",
        "outputId": "68ee2eb2-2ac4-4ffa-8d5e-5b41f4b60404"
      },
      "execution_count": 12,
      "outputs": [
        {
          "output_type": "stream",
          "name": "stdout",
          "text": [
            "🔢 Insira um número de 4 dígitos diferentes: 0253\n",
            "Passo 1: 5320 - 235 = 5085\n",
            "Passo 2: 8550 - 558 = 7992\n",
            "Passo 3: 9972 - 2799 = 7173\n",
            "Passo 4: 7731 - 1377 = 6354\n",
            "Passo 5: 6543 - 3456 = 3087\n",
            "Passo 6: 8730 - 378 = 8352\n",
            "Passo 7: 8532 - 2358 = 6174\n",
            "✅ Chegamos a 6174 em 7 passos!\n"
          ]
        }
      ]
    },
    {
      "cell_type": "code",
      "source": [],
      "metadata": {
        "id": "sl7J7G5JG9y1"
      },
      "execution_count": null,
      "outputs": []
    }
  ]
}